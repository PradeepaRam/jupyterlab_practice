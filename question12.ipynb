{
 "cells": [
  {
   "cell_type": "markdown",
   "id": "2322c1db-d30c-45e4-bd6d-ba12699f6583",
   "metadata": {},
   "source": [
    "We are currently working in the following directory:"
   ]
  },
  {
   "cell_type": "code",
   "execution_count": 1,
   "id": "597751c0-bb5e-4974-8615-1622f29cb776",
   "metadata": {},
   "outputs": [
    {
     "name": "stdout",
     "output_type": "stream",
     "text": [
      "/c/Users/prade/Documents/DataScience_tool_box/jupyterlab_practice\n"
     ]
    }
   ],
   "source": [
    "!pwd"
   ]
  },
  {
   "cell_type": "markdown",
   "id": "b067360b-5c66-47e7-8f88-22bdaef8855a",
   "metadata": {},
   "source": [
    "To time how long it takes to run a Python cell, we could use the timeit command inside a cell as is shown below:"
   ]
  },
  {
   "cell_type": "code",
   "execution_count": 2,
   "id": "2d5b8dbb-4337-4a8a-8365-4eb941fb19f0",
   "metadata": {},
   "outputs": [
    {
     "name": "stdout",
     "output_type": "stream",
     "text": [
      "89.1 ms ± 13.9 ms per loop (mean ± std. dev. of 7 runs, 10 loops each)\n"
     ]
    }
   ],
   "source": [
    "%%timeit\n",
    "\n",
    "for i in range(1_000_000):\n",
    "    i**2"
   ]
  },
  {
   "cell_type": "code",
   "execution_count": 4,
   "id": "69df7310-701d-445c-b295-481443a14c60",
   "metadata": {},
   "outputs": [
    {
     "name": "stdout",
     "output_type": "stream",
     "text": [
      "Requirement already satisfied: nbconvert in c:\\users\\prade\\miniconda3\\envs\\dstoolbox\\lib\\site-packages (7.7.2)\n",
      "Requirement already satisfied: beautifulsoup4 in c:\\users\\prade\\miniconda3\\envs\\dstoolbox\\lib\\site-packages (from nbconvert) (4.12.2)\n",
      "Requirement already satisfied: bleach!=5.0.0 in c:\\users\\prade\\miniconda3\\envs\\dstoolbox\\lib\\site-packages (from nbconvert) (6.0.0)\n",
      "Requirement already satisfied: defusedxml in c:\\users\\prade\\miniconda3\\envs\\dstoolbox\\lib\\site-packages (from nbconvert) (0.7.1)\n",
      "Requirement already satisfied: jinja2>=3.0 in c:\\users\\prade\\miniconda3\\envs\\dstoolbox\\lib\\site-packages (from nbconvert) (3.1.2)\n",
      "Requirement already satisfied: jupyter-core>=4.7 in c:\\users\\prade\\miniconda3\\envs\\dstoolbox\\lib\\site-packages (from nbconvert) (5.3.1)\n",
      "Requirement already satisfied: jupyterlab-pygments in c:\\users\\prade\\miniconda3\\envs\\dstoolbox\\lib\\site-packages (from nbconvert) (0.2.2)\n",
      "Requirement already satisfied: markupsafe>=2.0 in c:\\users\\prade\\miniconda3\\envs\\dstoolbox\\lib\\site-packages (from nbconvert) (2.1.3)\n",
      "Requirement already satisfied: mistune<4,>=2.0.3 in c:\\users\\prade\\miniconda3\\envs\\dstoolbox\\lib\\site-packages (from nbconvert) (3.0.1)\n",
      "Requirement already satisfied: nbclient>=0.5.0 in c:\\users\\prade\\miniconda3\\envs\\dstoolbox\\lib\\site-packages (from nbconvert) (0.8.0)\n",
      "Requirement already satisfied: nbformat>=5.7 in c:\\users\\prade\\miniconda3\\envs\\dstoolbox\\lib\\site-packages (from nbconvert) (5.9.1)\n",
      "Requirement already satisfied: packaging in c:\\users\\prade\\miniconda3\\envs\\dstoolbox\\lib\\site-packages (from nbconvert) (23.1)\n",
      "Requirement already satisfied: pandocfilters>=1.4.1 in c:\\users\\prade\\miniconda3\\envs\\dstoolbox\\lib\\site-packages (from nbconvert) (1.5.0)\n",
      "Requirement already satisfied: pygments>=2.4.1 in c:\\users\\prade\\miniconda3\\envs\\dstoolbox\\lib\\site-packages (from nbconvert) (2.15.1)\n",
      "Requirement already satisfied: tinycss2 in c:\\users\\prade\\miniconda3\\envs\\dstoolbox\\lib\\site-packages (from nbconvert) (1.2.1)\n",
      "Requirement already satisfied: traitlets>=5.1 in c:\\users\\prade\\miniconda3\\envs\\dstoolbox\\lib\\site-packages (from nbconvert) (5.9.0)\n",
      "Requirement already satisfied: six>=1.9.0 in c:\\users\\prade\\miniconda3\\envs\\dstoolbox\\lib\\site-packages (from bleach!=5.0.0->nbconvert) (1.16.0)\n",
      "Requirement already satisfied: webencodings in c:\\users\\prade\\miniconda3\\envs\\dstoolbox\\lib\\site-packages (from bleach!=5.0.0->nbconvert) (0.5.1)\n",
      "Requirement already satisfied: platformdirs>=2.5 in c:\\users\\prade\\miniconda3\\envs\\dstoolbox\\lib\\site-packages (from jupyter-core>=4.7->nbconvert) (3.9.1)\n",
      "Requirement already satisfied: pywin32>=300 in c:\\users\\prade\\miniconda3\\envs\\dstoolbox\\lib\\site-packages (from jupyter-core>=4.7->nbconvert) (304)\n",
      "Requirement already satisfied: jupyter-client>=6.1.12 in c:\\users\\prade\\miniconda3\\envs\\dstoolbox\\lib\\site-packages (from nbclient>=0.5.0->nbconvert) (8.3.0)\n",
      "Requirement already satisfied: fastjsonschema in c:\\users\\prade\\miniconda3\\envs\\dstoolbox\\lib\\site-packages (from nbformat>=5.7->nbconvert) (2.17.1)\n",
      "Requirement already satisfied: jsonschema>=2.6 in c:\\users\\prade\\miniconda3\\envs\\dstoolbox\\lib\\site-packages (from nbformat>=5.7->nbconvert) (4.18.4)\n",
      "Requirement already satisfied: soupsieve>1.2 in c:\\users\\prade\\miniconda3\\envs\\dstoolbox\\lib\\site-packages (from beautifulsoup4->nbconvert) (2.4.1)\n",
      "Requirement already satisfied: attrs>=22.2.0 in c:\\users\\prade\\miniconda3\\envs\\dstoolbox\\lib\\site-packages (from jsonschema>=2.6->nbformat>=5.7->nbconvert) (23.1.0)\n",
      "Requirement already satisfied: jsonschema-specifications>=2023.03.6 in c:\\users\\prade\\miniconda3\\envs\\dstoolbox\\lib\\site-packages (from jsonschema>=2.6->nbformat>=5.7->nbconvert) (2023.7.1)\n",
      "Requirement already satisfied: referencing>=0.28.4 in c:\\users\\prade\\miniconda3\\envs\\dstoolbox\\lib\\site-packages (from jsonschema>=2.6->nbformat>=5.7->nbconvert) (0.30.0)\n",
      "Requirement already satisfied: rpds-py>=0.7.1 in c:\\users\\prade\\miniconda3\\envs\\dstoolbox\\lib\\site-packages (from jsonschema>=2.6->nbformat>=5.7->nbconvert) (0.9.2)\n",
      "Requirement already satisfied: python-dateutil>=2.8.2 in c:\\users\\prade\\miniconda3\\envs\\dstoolbox\\lib\\site-packages (from jupyter-client>=6.1.12->nbclient>=0.5.0->nbconvert) (2.8.2)\n",
      "Requirement already satisfied: pyzmq>=23.0 in c:\\users\\prade\\miniconda3\\envs\\dstoolbox\\lib\\site-packages (from jupyter-client>=6.1.12->nbclient>=0.5.0->nbconvert) (25.1.0)\n",
      "Requirement already satisfied: tornado>=6.2 in c:\\users\\prade\\miniconda3\\envs\\dstoolbox\\lib\\site-packages (from jupyter-client>=6.1.12->nbclient>=0.5.0->nbconvert) (6.3.2)\n",
      "Note: you may need to restart the kernel to use updated packages.\n"
     ]
    }
   ],
   "source": [
    "pip install nbconvert"
   ]
  },
  {
   "cell_type": "code",
   "execution_count": 5,
   "id": "38de7861-5200-4165-8e39-818fc5a49893",
   "metadata": {},
   "outputs": [
    {
     "name": "stderr",
     "output_type": "stream",
     "text": [
      "[NbConvertApp] Converting notebook question12.ipynb to html\n",
      "[NbConvertApp] Writing 269605 bytes to question12.html\n"
     ]
    }
   ],
   "source": [
    "!jupyter nbconvert --to html --no-input question12.ipynb"
   ]
  },
  {
   "cell_type": "code",
   "execution_count": null,
   "id": "a65419c4-b1c8-46a1-80c5-3997e842442c",
   "metadata": {},
   "outputs": [],
   "source": []
  }
 ],
 "metadata": {
  "kernelspec": {
   "display_name": "Python [conda env:dstoolbox]",
   "language": "python",
   "name": "conda-env-dstoolbox-py"
  },
  "language_info": {
   "codemirror_mode": {
    "name": "ipython",
    "version": 3
   },
   "file_extension": ".py",
   "mimetype": "text/x-python",
   "name": "python",
   "nbconvert_exporter": "python",
   "pygments_lexer": "ipython3",
   "version": "3.11.4"
  }
 },
 "nbformat": 4,
 "nbformat_minor": 5
}
