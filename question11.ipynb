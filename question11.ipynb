{
 "cells": [
  {
   "cell_type": "markdown",
   "id": "5ef08a35-b0ad-4b49-a907-386349fef99b",
   "metadata": {},
   "source": [
    "# Pradeepa Ramamurthy\n",
    "Notebook for assignment 7"
   ]
  },
  {
   "cell_type": "code",
   "execution_count": 2,
   "id": "c9dc1a4f-ace4-4ac5-a933-2be47400ce2c",
   "metadata": {},
   "outputs": [
    {
     "data": {
      "text/plain": [
       "5.0"
      ]
     },
     "execution_count": 2,
     "metadata": {},
     "output_type": "execute_result"
    }
   ],
   "source": [
    "def compute_mean(numbers):\n",
    "    if not numbers:\n",
    "        raise ValueError(\"Input list is empty, cannot calculate mean.\")\n",
    "        \n",
    "    total = sum(numbers)\n",
    "    mean = total / len(numbers)\n",
    "    return mean    \n",
    "    \n",
    "\n",
    "\n",
    "compute_mean([2, 4, 6, 8])\n"
   ]
  },
  {
   "cell_type": "code",
   "execution_count": null,
   "id": "28c64ce6-f89c-4a0d-9f11-1b72c288ae0e",
   "metadata": {},
   "outputs": [],
   "source": []
  },
  {
   "cell_type": "code",
   "execution_count": null,
   "id": "a672fe1a-9612-4eb2-88df-26d51ac0a4cb",
   "metadata": {},
   "outputs": [],
   "source": []
  }
 ],
 "metadata": {
  "kernelspec": {
   "display_name": "Python [conda env:dstoolbox]",
   "language": "python",
   "name": "conda-env-dstoolbox-py"
  },
  "language_info": {
   "codemirror_mode": {
    "name": "ipython",
    "version": 3
   },
   "file_extension": ".py",
   "mimetype": "text/x-python",
   "name": "python",
   "nbconvert_exporter": "python",
   "pygments_lexer": "ipython3",
   "version": "3.11.4"
  }
 },
 "nbformat": 4,
 "nbformat_minor": 5
}
