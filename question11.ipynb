{
 "cells": [
  {
   "cell_type": "markdown",
   "id": "5ef08a35-b0ad-4b49-a907-386349fef99b",
   "metadata": {},
   "source": [
    "# Pradeepa Ramamurthy\n",
    "Notebook for assignment 7"
   ]
  },
  {
   "cell_type": "code",
   "execution_count": 5,
   "id": "c9dc1a4f-ace4-4ac5-a933-2be47400ce2c",
   "metadata": {},
   "outputs": [
    {
     "data": {
      "text/plain": [
       "5.0"
      ]
     },
     "execution_count": 5,
     "metadata": {},
     "output_type": "execute_result"
    }
   ],
   "source": [
    "def compute_mean(numbers):\n",
    "    if not numbers:\n",
    "        raise ValueError(\"Input list is empty, cannot calculate mean.\")\n",
    "        \n",
    "    total = sum(numbers)\n",
    "    mean = total / len(numbers)\n",
    "    return mean    \n",
    "    \n",
    "\n",
    "\n",
    "compute_mean([2, 4, 6, 8])\n"
   ]
  },
  {
   "cell_type": "markdown",
   "id": "b212b037-2952-47a0-b093-0139d972ca57",
   "metadata": {},
   "source": [
    "## Explanation:\n",
    "\n",
    "`calculate_mean` function takes a list of numbers as input and returns the mean (average) of the numbers. It first checks if the input list is empty and raises a `ValueError` if that's the case, as it is not possible to calculate the mean of an empty list. Otherwise, it calculates the sum of all numbers in the list and divides it by the total count of numbers to find the mean.\n",
    "\n",
    "$$\n",
    "\\bar{x} = \\frac{{\\sum_{i=1}^{n} x_i}}{{n}}\n",
    "$$"
   ]
  }
 ],
 "metadata": {
  "kernelspec": {
   "display_name": "Python [conda env:dstoolbox]",
   "language": "python",
   "name": "conda-env-dstoolbox-py"
  },
  "language_info": {
   "codemirror_mode": {
    "name": "ipython",
    "version": 3
   },
   "file_extension": ".py",
   "mimetype": "text/x-python",
   "name": "python",
   "nbconvert_exporter": "python",
   "pygments_lexer": "ipython3",
   "version": "3.11.4"
  }
 },
 "nbformat": 4,
 "nbformat_minor": 5
}
